{
  "nbformat": 4,
  "nbformat_minor": 0,
  "metadata": {
    "colab": {
      "provenance": []
    },
    "kernelspec": {
      "name": "python3",
      "display_name": "Python 3"
    },
    "language_info": {
      "name": "python"
    }
  },
  "cells": [
    {
      "cell_type": "code",
      "execution_count": null,
      "metadata": {
        "id": "E-q2h2vfPFQk"
      },
      "outputs": [],
      "source": [
        "import pandas as pd\n",
        "import numpy as np\n",
        "from sklearn.ensemble import StackingClassifier, GradientBoostingClassifier, AdaBoostClassifier\n",
        "from xgboost import XGBClassifier\n",
        "from lightgbm import LGBMClassifier\n",
        "from sklearn.linear_model import LogisticRegression\n",
        "from sklearn.feature_extraction.text import TfidfVectorizer\n",
        "from sklearn.model_selection import train_test_split\n",
        "from sklearn.metrics import accuracy_score, roc_auc_score, f1_score\n",
        "from imblearn.over_sampling import SMOTE\n",
        "import pickle\n"
      ]
    },
    {
      "cell_type": "code",
      "source": [
        "print(\"Training the model...\")\n",
        "\n",
        "# Load dataset (ensure y is binary: 0 or 1)\n",
        "df = pd.read_csv(\"Combined_dataset.csv\")\n",
        "df.head()\n"
      ],
      "metadata": {
        "id": "6hR9enEnPJzW"
      },
      "execution_count": null,
      "outputs": []
    },
    {
      "cell_type": "code",
      "source": [
        "X = df['Query']\n",
        "y = df['Label']"
      ],
      "metadata": {
        "id": "6gJSJo50Q3Vo"
      },
      "execution_count": null,
      "outputs": []
    },
    {
      "cell_type": "code",
      "source": [
        " # Split dataset\n",
        "X_train, X_test, y_train, y_test = train_test_split(X, y, test_size=0.2, random_state=42, stratify=y)\n"
      ],
      "metadata": {
        "id": "E1_YACV9PQC8"
      },
      "execution_count": null,
      "outputs": []
    },
    {
      "cell_type": "code",
      "source": [
        "# Handle class imbalance using SMOTE\n",
        "vectorizer = TfidfVectorizer()\n",
        "X_train_transformed = vectorizer.fit_transform(X_train)\n",
        "smote = SMOTE(random_state=42)\n",
        "X_resampled, y_resampled = smote.fit_resample(X_train_transformed, y_train)"
      ],
      "metadata": {
        "id": "RDxyku_SPUHV"
      },
      "execution_count": null,
      "outputs": []
    },
    {
      "cell_type": "code",
      "source": [
        " # Save vectorizer\n",
        "with open('vectorizer.pkl', 'wb') as f:\n",
        "   pickle.dump(vectorizer, f)\n",
        "\n",
        "# Define base learners\n",
        "gbm = GradientBoostingClassifier(n_estimators=100)\n",
        "adaboost = AdaBoostClassifier(n_estimators=100)\n",
        "xgb = XGBClassifier(n_estimators=100, use_label_encoder=False, eval_metric=\"logloss\")\n",
        "lgbm = LGBMClassifier(n_estimators=100)\n"
      ],
      "metadata": {
        "id": "ZjOE6O6IPZS7"
      },
      "execution_count": null,
      "outputs": []
    },
    {
      "cell_type": "code",
      "source": [
        "# Stacking Classifier\n",
        "stacking_clf = StackingClassifier(\n",
        "   estimators=[\n",
        "      ('gbm', gbm),\n",
        "      ('adaboost', adaboost),\n",
        "      ('xgb', xgb),\n",
        "      ('lgbm', lgbm)\n",
        "    ],\n",
        "    final_estimator=LogisticRegression(solver='liblinear'),\n",
        "    stack_method='predict_proba'\n",
        ")\n",
        "\n",
        "stacking_clf.fit(X_resampled, y_resampled)"
      ],
      "metadata": {
        "id": "hI1gNHVqPrrV"
      },
      "execution_count": null,
      "outputs": []
    },
    {
      "cell_type": "code",
      "source": [
        "# Save model\n",
        "with open('model.pkl', 'wb') as f:\n",
        "  pickle.dump(stacking_clf, f)"
      ],
      "metadata": {
        "id": "cLQv4zbjQNBC"
      },
      "execution_count": null,
      "outputs": []
    },
    {
      "cell_type": "code",
      "source": [
        "# Evaluate model\n",
        "X_test_transformed = vectorizer.transform(X_test)\n",
        "y_pred = stacking_clf.predict(X_test_transformed)\n",
        "y_pred_proba = stacking_clf.predict_proba(X_test_transformed)[:, 1]"
      ],
      "metadata": {
        "id": "-YwnonW2Qewx"
      },
      "execution_count": null,
      "outputs": []
    },
    {
      "cell_type": "code",
      "source": [
        "  accuracy = accuracy_score(y_test, y_pred)\n",
        "  roc_auc = roc_auc_score(y_test, y_pred_proba)\n",
        "  f1 = f1_score(y_test, y_pred)\n",
        "\n",
        "  print(f\"Accuracy: {accuracy:.4f}\")\n",
        "  print(f\"ROC AUC: {roc_auc:.4f}\")\n",
        "  print(f\"F1 Score: {f1:.4f}\")"
      ],
      "metadata": {
        "id": "SdJig2TRQn0J"
      },
      "execution_count": null,
      "outputs": []
    },
    {
      "cell_type": "code",
      "source": [],
      "metadata": {
        "id": "XXqb6SolQrIt"
      },
      "execution_count": null,
      "outputs": []
    }
  ]
}
